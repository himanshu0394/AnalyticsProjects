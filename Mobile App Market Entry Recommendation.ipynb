{
 "cells": [
  {
   "cell_type": "markdown",
   "metadata": {},
   "source": [
    "<link rel=\"stylesheet\" href=\"https://maxcdn.bootstrapcdn.com/bootstrap/3.3.7/css/bootstrap.min.css\">\n",
    "\n",
    "<div class='text-center text-danger bg-warning container'><h1>Undestanding Best Strategy to Enter Mobile Phone App Market</h1></div>\n",
    "<div class='text-center text-danger bg-warning container'><h6><u>19 Sep 2018</u></h6></div>\n",
    "<div class='text-center text-danger bg-warning container'>&#160;</div>\n",
    "\n",
    "\n",
    "<h4> Table of contents </h4>\n",
    "<ol>\n",
    "    <li>Data cleaning and preparation</li>\n",
    "    <li>Approach 1: Identify potential market: high demand and low performing categories</li>\n",
    "    <li>Approach 2: Identify impact of price on the average rating of an app</li>\n",
    "    <li>Approach 3: App prices across countries</li>\n",
    "    <li>Approach 4: Purchase behaviour based on platforms</li>\n",
    "    <li>Approach 5: Impact of in-app advertisements and purchases on rating</li>\n",
    "</ol>\n"
   ]
  },
  {
   "cell_type": "markdown",
   "metadata": {},
   "source": [
    " \n",
    "<hr>\n",
    "<h2>Data cleaning and preparation</h2>\n",
    "1. To start we noticed that the average_rating column had values of 50 in it. This did not make sense as the rest of the values range between 0 and 5. We made the assumption these values of 50 should be 5.0\n",
    "2. Next we looked at the different categories available. There were weird encodings and a few categories that could be aggregatd into one of the larger categories.\n",
    "3. Then we converted the crawl and release dates to native R date types and used this to calculate the app age as there were missing values.\n",
    "4. We noticed there were some apps priced very high. We decided to only look at apps that are less than &#36;100 as these high-priced apps are either errors in the data or very niche apps which we did not want to analyze.\n",
    "5. There were NAs present in the region column. Given the low total number of NAs, we decided to remove these rows.\n",
    "6. Finally we aggregated the dataset to form rows on a per app basis.\n",
    "\n",
    "<blockquote>\n",
    "<div class = 'text-danger'>Important note: Games Category</div>\n",
    "We observed that highest number of applictions across any cross section of the data are games. Game applications in itself is a competitive segment. Additionally, game applications differ from other application categories on many fronts such as:\n",
    "    <ol>\n",
    "        <li>Application size due to high graphics files</li>\n",
    "        <li>Higher development cost</li>\n",
    "        <li>Difficult to maintain high app rating while providing compatibility across various devices and platforms</li>\n",
    "    </ol><br>\n",
    "Hence we recommend to exclude games category as initial scope for entering the market.\n",
    "    \n",
    "</blockquote>"
   ]
  },
  {
   "cell_type": "code",
   "execution_count": 21,
   "metadata": {},
   "outputs": [],
   "source": [
    "##### Load the libraries and read data\n",
    "rm(list = ls())\n",
    "library(data.table)\n",
    "library(ggplot2)\n",
    "library(plotly)\n",
    "library(corrplot)\n",
    "library(repr)\n",
    "library(dplyr)\n",
    "options(repr.plot.width=8, repr.plot.height=4)\n",
    "options(warn = -1)\n",
    "setwd(\"G:\\\\Team Drives\\\\MSBA 6410 - Exploratory Data Analytics and Visualization\\\\Data and Code\")\n",
    "mobile <- read.csv(\"mobileApps.csv\")\n",
    "wrapper <- function(x, ...) paste(strwrap(x, ...), collapse = \"\\n\")\n",
    "\n",
    "##### Data cleaning\n",
    "\n",
    "# Removing special characters\n",
    "mobile$category <- gsub(' åÊ', '', mobile$category)\n",
    "# Changing average rating 50 to 5.0 based on intuition\n",
    "mobile[which(mobile$average_rating == 50), 'average_rating'] <- 5.0\n",
    "# Setting right date formats\n",
    "mobile$crawl_date <- as.Date(mobile$crawl_date, '%m/%d/%y')\n",
    "mobile$release_date <- as.Date(mobile$release_date, '%m/%d/%y')\n",
    "# Calculating missing app ages\n",
    "mobile$app_age_current_version <- ifelse(is.na(mobile$app_age_current_version), mobile$crawl_date - mobile$release_date, mobile$app_age_current_version)\n",
    "# Merging subcategories with main categories\n",
    "mobile$category <- gsub(\"([A-Za-z]+).*\", \"\\\\1\", mobile$category)\n",
    "# Removing region 'na' as data proportion is very low\n",
    "mobile_cleaned <- mobile[which(!is.na(mobile$region)),]\n",
    "# Removing outlier priecd apps\n",
    "mobile_cleaned <- mobile_cleaned[which(mobile_cleaned$price < 100), ]\n",
    "# write.csv(mobile_cleaned, 'mobile_cleaned.csv', row.names = FALSE)\n"
   ]
  },
  {
   "cell_type": "markdown",
   "metadata": {},
   "source": [
    "<hr>\n",
    "<h2>Approach 1</h2>\n",
    "<h4><i>Explanation and goals</i></h4>\n",
    "\n",
    "In the initial approach, our key goal is identify the mobile applications that we can categorise as `the ones that are in demand (determined by high number of ratings the apps are getting) however, are not able to meet user expectations (determined by low average rating given to these apps)`. The basic rationale behind this is that consumers will download the apps that they find interesting/usefull more times leading to proportionally higher number of ratings given, but at the same time the average rating given will turn out to be low if it doesn't meet the expected qality of service.\n",
    "The category & platform (OS and store) which such apps belong to will be defined as the 'potential market' for us. We will be able to safely assume that the segments determined by these apps require better service.\n",
    "\n",
    "<b>Key goal:</b>\n",
    "Identify the market segments that currently represent applications with high customer engagement but low satisfaction\n"
   ]
  },
  {
   "cell_type": "code",
   "execution_count": 22,
   "metadata": {},
   "outputs": [
    {
     "data": {},
     "metadata": {},
     "output_type": "display_data"
    },
    {
     "data": {},
     "metadata": {},
     "output_type": "display_data"
    },
    {
     "data": {
      "image/png": "[encoded data removed]",
      "text/plain": [
       "plot without title"
      ]
     },
     "metadata": {},
     "output_type": "display_data"
    },
    {
     "data": {},
     "metadata": {},
     "output_type": "display_data"
    },
    {
     "data": {
      "image/png": "[encoded data removed]",
      "text/plain": [
       "plot without title"
      ]
     },
     "metadata": {},
     "output_type": "display_data"
    },
    {
     "data": {
      "text/html": [
       "<table>\n",
       "<thead><tr><th scope=col>Category</th><th scope=col>Average_Ratings_Per_App</th></tr></thead>\n",
       "<tbody>\n",
       "\t<tr><td>Multimedia   </td><td> 29842.706   </td></tr>\n",
       "\t<tr><td>Education    </td><td>  5862.667   </td></tr>\n",
       "\t<tr><td>Utilities    </td><td>  6535.312   </td></tr>\n",
       "\t<tr><td>Entertainment</td><td> 11632.826   </td></tr>\n",
       "\t<tr><td>Social       </td><td>195551.214   </td></tr>\n",
       "\t<tr><td>Lifestyle    </td><td>  8204.000   </td></tr>\n",
       "</tbody>\n",
       "</table>\n"
      ],
      "text/latex": [
       "\\begin{tabular}{r|ll}\n",
       " Category & Average\\_Ratings\\_Per\\_App\\\\\n",
       "\\hline\n",
       "\t Multimedia    &  29842.706   \\\\\n",
       "\t Education     &   5862.667   \\\\\n",
       "\t Utilities     &   6535.312   \\\\\n",
       "\t Entertainment &  11632.826   \\\\\n",
       "\t Social        & 195551.214   \\\\\n",
       "\t Lifestyle     &   8204.000   \\\\\n",
       "\\end{tabular}\n"
      ],
      "text/markdown": [
       "\n",
       "Category | Average_Ratings_Per_App | \n",
       "|---|---|---|---|---|---|\n",
       "| Multimedia    |  29842.706    | \n",
       "| Education     |   5862.667    | \n",
       "| Utilities     |   6535.312    | \n",
       "| Entertainment |  11632.826    | \n",
       "| Social        | 195551.214    | \n",
       "| Lifestyle     |   8204.000    | \n",
       "\n",
       "\n"
      ],
      "text/plain": [
       "  Category      Average_Ratings_Per_App\n",
       "1 Multimedia     29842.706             \n",
       "2 Education       5862.667             \n",
       "3 Utilities       6535.312             \n",
       "4 Entertainment  11632.826             \n",
       "5 Social        195551.214             \n",
       "6 Lifestyle       8204.000             "
      ]
     },
     "metadata": {},
     "output_type": "display_data"
    },
    {
     "data": {
      "image/png": "[encoded data removed]",
      "text/plain": [
       "plot without title"
      ]
     },
     "metadata": {},
     "output_type": "display_data"
    }
   ],
   "source": [
    "##### Initial - Aggregating 6 day data to app level\n",
    "# One app is defined by release date, developer, device, category and store\n",
    "mobile_cleaned <- data.table(mobile_cleaned)\n",
    "mobile_cleaned_proc <- mobile_cleaned[,j = list(mean(filesize..MB.), max(rating_count), sum(num_issues_reported), mean(price), mean(average_rating), mean(rank)),\n",
    "                                      by = list(release_date, category, app_store, device, in_app_ads, in_app_purchase, app_type, region, developer)]\n",
    "colnames(mobile_cleaned_proc)[10:15] <- c(\"size_mean\", \"numratings_max\", \"issues_sum\", \"price_mean\", \"rating_mean\", \"rank_mean\")\n",
    "mobile_cleaned_proc <- mobile_cleaned_proc[category != 'Games']\n",
    "# write.csv(mobile_cleaned_proc, 'Aggregated_apps.csv', row.names = FALSE)\n",
    "\n",
    "##### Approach 1\n",
    "\n",
    "# Finding threshold for average rating\n",
    "ggplot(data = mobile_cleaned_proc, aes(rating_mean)) +\n",
    "  geom_histogram(binwidth = 0.1) +\n",
    "  annotate('rect', xmin = 0, xmax = 4, ymin = 0, ymax = 1000, fill = 'orange', alpha = 0.3) +\n",
    "  annotate('text', size = 3, x = 2, y = 700, label = wrapper('About 30% of the apps fall below rating of 4.1 which are not meeting customer expectations', width = 40)) +\n",
    "  xlab('Average app rating') +\n",
    "  ylab('Number of apps') +\n",
    "  ggtitle('Distribution of apps based on average rating [Chart 1]') +\n",
    "  theme_light()\n",
    "\n",
    "# Finding threshold for number of ratings given (excluding outliers upfront to view lower distribution)\n",
    "ggplot(data = mobile_cleaned_proc[which(mobile_cleaned_proc$numratings_max <= 10000),], aes(numratings_max)) +\n",
    "  geom_histogram(binwidth = 100) +\n",
    "  annotate('rect', xmin = 2500, xmax = 10000, ymin = 0, ymax = 800, fill = 'orange', alpha = 0.3) +\n",
    "  annotate('text', size = 3, x = 6000, y = 500, label = wrapper('About 10% of the apps fall above 2500 rating mark which are apps with high demand', width = 40)) +\n",
    "  xlab('Average number of ratings') +\n",
    "  ylab('Number of apps') +\n",
    "  ggtitle('Distribution of apps based on number of ratings [Chart 2]') +\n",
    "  theme_light()\n",
    "\n",
    "# Inference: # The distribution is highly skewed but overall apps with more than 2500 ratings can be called the one with high traction \n",
    "\n",
    "# Observing categoris of high demand, low service apps\n",
    "analysis_1 <- mobile_cleaned_proc[numratings_max >= 2500 & rating_mean <= 4.0]\n",
    "ggplot(data = analysis_1, aes(app_store, fill = category)) +\n",
    "  geom_histogram(stat = 'count') +\n",
    "  facet_wrap('device') +\n",
    "  xlab('Store') +\n",
    "  ylab('Number of apps') +\n",
    "  ggtitle('Categories of apps with high demand and low quality service [Chart 3]') +\n",
    "  theme_light()\n",
    "\n",
    "# Determining best catgories to pick based on where we observe more potential downloads\n",
    "downloads_check <- analysis_1[, j = mean(numratings_max), by = category]\n",
    "colnames(downloads_check) <- c('Category', 'Average_Ratings_Per_App')\n",
    "downloads_check"
   ]
  },
  {
   "cell_type": "markdown",
   "metadata": {},
   "source": [
    "<h4><i>Interpretation of approach 1</i></h4>\n",
    "1. Based on chart 1 and 2, we can infer that apps that have average rating less than or equal to 4.0 and number of ratings given is more than 2.5K meet the criteria of 'opportunity segment'\n",
    "2. From chart 3, we can observe that:\n",
    "    1. `Apple store` for smartphones has significant number of apps in `Utilities, multimedia and entertainment categories` have room for better quality apps\n",
    "    2. `Social, multimedia, entertainment and utilities categories` in `Google play` store for smartphone market have room for better quality apps\n",
    "    3. `IOS tablet` market has a number of apps that need improvement in the `utilities, multimedia and entertainment` categories\n",
    "3. Based on above Multimedia, Entertainment and Utilities catgories need improvement across all devices and platforms\n",
    "4. However, from the table we can observe that, `Utilities` category has `lesser demand` from users (6.5K) as compared to Multimedia (30K) and Entertainment (11.6K) categories \n",
    "\n",
    "<h4><i>Conclusion from approach 1</i></h4>\n",
    "1. Potential growth segment has been identified as `Multimedia and Entertainment` applications\n",
    "\n",
    "<h4><i>Potential drawbacks</i></h4>\n",
    "There could already be successful apps providing equivalent service however since we do not have visibility to app description or tags we cannot gather information about them.\n",
    "\n",
    "<h4><i>Based on conclusions from Approach 1, explanation of Approach and Goals 2</i></h4>\n",
    "Now that we have identified the two categories, we wanted to first look at how the market responds to price. Does raising the price affect the ratings of an app?"
   ]
  },
  {
   "cell_type": "markdown",
   "metadata": {},
   "source": [
    "\n",
    "<hr>\n",
    "\n",
    "<h2>Approach 2</h2>\n",
    "<h4><i>Explanation and goals</i></h4>\n",
    "\n",
    "Analysing affect of app pricing on average rating will help us formulate a pricing strategy for entering these segments.\n",
    "\n",
    "<b>Key goal:</b> Identify relationship between price of an app and ratings"
   ]
  },
  {
   "cell_type": "code",
   "execution_count": 23,
   "metadata": {},
   "outputs": [
    {
     "name": "stdout",
     "output_type": "stream",
     "text": [
      "[1] \"Effect of price on app rating\"\n"
     ]
    },
    {
     "data": {},
     "metadata": {},
     "output_type": "display_data"
    },
    {
     "data": {
      "text/plain": [
       "\n",
       "Call:\n",
       "lm(formula = rating_mean ~ price_mean, data = analysis_2)\n",
       "\n",
       "Residuals:\n",
       "    Min      1Q  Median      3Q     Max \n",
       "-3.1729 -0.1832  0.3168  0.3374  1.2749 \n",
       "\n",
       "Coefficients:\n",
       "             Estimate Std. Error t value Pr(>|t|)    \n",
       "(Intercept)  4.183182   0.015808 264.632   <2e-16 ***\n",
       "price_mean  -0.010647   0.004249  -2.506   0.0123 *  \n",
       "---\n",
       "Signif. codes:  0 '***' 0.001 '**' 0.01 '*' 0.05 '.' 0.1 ' ' 1\n",
       "\n",
       "Residual standard error: 0.684 on 2101 degrees of freedom\n",
       "Multiple R-squared:  0.002979,\tAdjusted R-squared:  0.002504 \n",
       "F-statistic: 6.278 on 1 and 2101 DF,  p-value: 0.0123\n"
      ]
     },
     "metadata": {},
     "output_type": "display_data"
    },
    {
     "data": {
      "image/png": "[encoded data removed]",
      "text/plain": [
       "plot without title"
      ]
     },
     "metadata": {},
     "output_type": "display_data"
    }
   ],
   "source": [
    "# Observing relation for all the apps which have been given rating\n",
    "print(\"Effect of price on app rating\")\n",
    "analysis_2 <- mobile_cleaned_proc[rating_mean > 0]\n",
    "ggplot(data = analysis_2, aes(x = price_mean, y = rating_mean)) +\n",
    "  geom_point(color = 'steel blue') +\n",
    "  geom_smooth(method = 'lm', formula = y ~ x) +\n",
    "  xlab('Price ($)') +\n",
    "  ylab('App rating') +\n",
    "  ggtitle('Relationship between app price & rating average') +\n",
    "  theme_light()\n",
    "\n",
    "reg1 <- lm(rating_mean ~ price_mean, data = analysis_2)\n",
    "summary(reg1)\n",
    "\n",
    "# print(\"Effect of price on app rating considering apps with price less than $10\")\n",
    "# analysis_2 <- mobile_cleaned_proc[rating_mean <= 4.0 & rating_mean > 0 & category %in% c('Multimedia', 'Entertainment') & numratings_max >= 2500 & price_mean <= 10]\n",
    "# nrow(analysis_2)\n",
    "# ggplot(data = analysis_2, aes(x = price_mean, y = rating_mean)) +\n",
    "#   geom_point(color = 'steel blue') +\n",
    "#   geom_smooth(method = 'lm', formula = y ~ x) +\n",
    "#   xlab('Price ($)') +\n",
    "#   ylab('App rating') +\n",
    "#   ggtitle('Relationship between app price & rating average') +\n",
    "#   theme_light()\n",
    "# \n",
    "# reg1 <- lm(rating_mean ~ price_mean, data = analysis_2)\n",
    "# summary(reg1)\n"
   ]
  },
  {
   "cell_type": "markdown",
   "metadata": {},
   "source": [
    "<h4><i>Interpretation of approach 2</i></h4>\n",
    "The first graph and regression considers every app in the dataset, which ranges from free to $100. The p-value is 0.0123 which means that assuming there is no relationship between price and rating, there is essentially no chance of obtaining this sample. In addition, the coefficient is -0.01. This means for every dollar increase in app price, the rating falls 0.01 units.\n",
    "The same relationship is supported by scatter plot. \n",
    "\n",
    "<h4><i>Conclusion from approach 2</i></h4>\n",
    "There is evidence of a relationship between price of an app and its rating. In addition, that relationship is negative. This means as the price of the app increases, one would expect the rating to decrease. Ultimately, this means that to obtain a good app rating, which is a way to differentiate within the Entertainment and Multimedia categories, the price should be kept low\n",
    "\n",
    "<h4><i>Based on conclusions from Approach 2, explanation of Approach and Goals 3:</i></h4>\n",
    "Now that we have determined that price is important to obtain a good rating, we wanted to determine if the United States and China have different behavior when it comes to price."
   ]
  },
  {
   "cell_type": "markdown",
   "metadata": {},
   "source": [
    "<hr>\n",
    "\n",
    "<h2>Approach 3</h2>\n",
    "<h4><i>Explanation and goals</i></h4>\n",
    "\n",
    "Identifying regional pricing patterns will help us device a pricing strategy while entering these markets\n",
    "\n",
    "<b>Key goal:</b> Identify relationship between app pricing and region"
   ]
  },
  {
   "cell_type": "code",
   "execution_count": 24,
   "metadata": {},
   "outputs": [
    {
     "data": {
      "text/plain": [
       "             Df Sum Sq Mean Sq F value   Pr(>F)    \n",
       "region        1   47.6   47.61   11.47 0.000756 ***\n",
       "Residuals   584 2424.9    4.15                     \n",
       "---\n",
       "Signif. codes:  0 '***' 0.001 '**' 0.01 '*' 0.05 '.' 0.1 ' ' 1"
      ]
     },
     "metadata": {},
     "output_type": "display_data"
    },
    {
     "data": {},
     "metadata": {},
     "output_type": "display_data"
    },
    {
     "data": {
      "image/png": "[encoded data removed]",
      "text/plain": [
       "plot without title"
      ]
     },
     "metadata": {},
     "output_type": "display_data"
    }
   ],
   "source": [
    "analysis_99 <- mobile_cleaned_proc[which(mobile_cleaned_proc$category %in% c('Entertainment', 'Multimedia')), c(\"region\", \"price_mean\", \"category\")]\n",
    "price_aov <- aov(price_mean ~ region, data=analysis_99)\n",
    "summary(price_aov)\n",
    "\n",
    "analysis_99 %>%\n",
    "  group_by(category, region) %>%\n",
    "  summarise(price = mean(price_mean)) %>%\n",
    "  ggplot(aes(x=region, y=price, fill=region)) + geom_col() + facet_wrap('category') + xlab('Price') + ylab('Region') + ggtitle('Pricing difference across countries') +theme_light()\n"
   ]
  },
  {
   "cell_type": "markdown",
   "metadata": {},
   "source": [
    "<h4><i>Interperation from Approach</i></h4>\n",
    "\n",
    "The ANOVA compares the average price of all apps in China to the average price of all apps in the United States. Based on the p-value, there is a 0.07 percent chance of obtaining this sample if there is no difference in the average price of apps in each country. Further, from the graph we can observe that United States users pay, on average more than Chinese users.\n",
    "\n",
    "<h4><i>Conclusions from Approach</i></h4>\n",
    "\n",
    "From the above we can conlude that overall Chinese customers are sensitive to price, in addition, there is a clear opportunity to offer a quality app at a lower price to the United State market.\n",
    "\n",
    "<h4><i>Based on conclusions from Approach 3, explanation of Approach and Goals 4</i></h4>\n",
    "\n",
    "Now that we have observed a difference between Chinese and American users when it comes to price, we also wanted to see if there is a difference between Apple App Store and Google Play Store users."
   ]
  },
  {
   "cell_type": "markdown",
   "metadata": {},
   "source": [
    "<hr>\n",
    "\n",
    "<h2>Approach 4</h2>\n",
    "<h4><i>Explanation and goals</i></h4>\n",
    "\n",
    "Identifying purchase behavior for Apple vs Google Play Store users will help us in pricing the apps appropriately for each platform\n",
    "\n",
    "<b>Key goal:</b> Identify relationship between platform and app price"
   ]
  },
  {
   "cell_type": "code",
   "execution_count": 25,
   "metadata": {},
   "outputs": [
    {
     "data": {
      "text/plain": [
       "             Df Sum Sq Mean Sq F value Pr(>F)\n",
       "app_store     1    8.9   8.931   2.117  0.146\n",
       "Residuals   584 2463.6   4.218               "
      ]
     },
     "metadata": {},
     "output_type": "display_data"
    },
    {
     "data": {},
     "metadata": {},
     "output_type": "display_data"
    },
    {
     "data": {
      "image/png": "[encoded data removed]",
      "text/plain": [
       "plot without title"
      ]
     },
     "metadata": {},
     "output_type": "display_data"
    }
   ],
   "source": [
    "analysis_100 <- mobile_cleaned_proc[which(mobile_cleaned_proc$category %in% c('Entertainment', 'Multimedia')), c(\"app_store\", \"price_mean\", \"category\")]\n",
    "price_aov <- aov(price_mean ~ app_store, data=analysis_100)\n",
    "summary(price_aov)\n",
    "\n",
    "analysis_100 %>%\n",
    "  group_by(category, app_store) %>%\n",
    "  summarise(price = mean(price_mean)) %>%\n",
    "  ggplot(aes(x=app_store, y=price, fill=app_store)) + geom_col() + facet_wrap('category') + xlab('Price') + ylab('Platform') + ggtitle('Pricing diffrence across platform')+theme_light()\n"
   ]
  },
  {
   "cell_type": "markdown",
   "metadata": {},
   "source": [
    "<h4><i>Interperation from Approach</i></h4>\n",
    "\n",
    "From the graph above we can see that Apple users, on average, spend more than Google Play users in Multimedia. In case of Entertainment, users spend more in Google Play store compared to Apple. However, the difference is not significant.\n",
    "\n",
    "<h4><i>Conclusions from Approach</i></h4>\n",
    "\n",
    "We can conclude that Apple users pay more for apps, while Google Play users pay less. This presents an opportunity to offer an app at a lower cost than the existing options in the Apple App Store.\n",
    "\n",
    "<h4><i>Based on conclusions from Approach 2, explanation of Approach and Goals 3</i></h4>\n",
    "\n",
    "Now that we have determined that as price increases, rating decreases, and that diferent countries and app store users have different attitudes towards price, we wanted to look at if the presence of in app ads affects the rating of the app."
   ]
  },
  {
   "cell_type": "markdown",
   "metadata": {},
   "source": [
    "<hr>\n",
    "\n",
    "<h2>Approach 5</h2>\n",
    "<h4><i>Explanation and goals</i></h4>\n",
    "\n",
    "One of the key sources of revenues for mobile applications is advertisements and in-app purchases. Moreover, providing in-app purchases also creates scope for long term returns.\n",
    "\n",
    "We have realised that we need to avoid pricing the app highly as it could have detrimental affect on ratings. However, lowering the app price could lead to loss of revenue. Hence we could provide in-app advertisements and purchases, provided it doesn't affect customr satisfaction.\n",
    "\n",
    "<b>Key goal</b>: Determine whether in-app purchases and in-app advertisements have an effect on the average user ratings"
   ]
  },
  {
   "cell_type": "code",
   "execution_count": 26,
   "metadata": {},
   "outputs": [
    {
     "data": {
      "text/plain": [
       "                  Df Sum Sq Mean Sq F value Pr(>F)\n",
       "in_app_purchase    1    0.0  0.0235    0.05  0.823\n",
       "Residuals       2101  985.9  0.4693               "
      ]
     },
     "metadata": {},
     "output_type": "display_data"
    },
    {
     "data": {
      "text/html": [
       "<table>\n",
       "<thead><tr><th scope=col>in_app_purchase</th><th scope=col>V1</th></tr></thead>\n",
       "<tbody>\n",
       "\t<tr><td>NO_IN_APP_PURCHASE</td><td>4.168191          </td></tr>\n",
       "\t<tr><td>PLUGIN_PURCHASE   </td><td>4.176019          </td></tr>\n",
       "</tbody>\n",
       "</table>\n"
      ],
      "text/latex": [
       "\\begin{tabular}{r|ll}\n",
       " in\\_app\\_purchase & V1\\\\\n",
       "\\hline\n",
       "\t NO\\_IN\\_APP\\_PURCHASE & 4.168191                \\\\\n",
       "\t PLUGIN\\_PURCHASE    & 4.176019            \\\\\n",
       "\\end{tabular}\n"
      ],
      "text/markdown": [
       "\n",
       "in_app_purchase | V1 | \n",
       "|---|---|\n",
       "| NO_IN_APP_PURCHASE | 4.168191           | \n",
       "| PLUGIN_PURCHASE    | 4.176019           | \n",
       "\n",
       "\n"
      ],
      "text/plain": [
       "  in_app_purchase    V1      \n",
       "1 NO_IN_APP_PURCHASE 4.168191\n",
       "2 PLUGIN_PURCHASE    4.176019"
      ]
     },
     "metadata": {},
     "output_type": "display_data"
    },
    {
     "data": {},
     "metadata": {},
     "output_type": "display_data"
    },
    {
     "data": {
      "text/plain": [
       "              Df Sum Sq Mean Sq F value  Pr(>F)   \n",
       "in_app_ads     1    3.4   3.366   7.198 0.00736 **\n",
       "Residuals   2101  982.6   0.468                   \n",
       "---\n",
       "Signif. codes:  0 '***' 0.001 '**' 0.01 '*' 0.05 '.' 0.1 ' ' 1"
      ]
     },
     "metadata": {},
     "output_type": "display_data"
    },
    {
     "data": {
      "text/html": [
       "<table>\n",
       "<thead><tr><th scope=col>in_app_ads</th><th scope=col>V1</th></tr></thead>\n",
       "<tbody>\n",
       "\t<tr><td>NO_IN_APP_ADS</td><td>4.149104     </td></tr>\n",
       "\t<tr><td>IN_APP_ADS   </td><td>4.246425     </td></tr>\n",
       "</tbody>\n",
       "</table>\n"
      ],
      "text/latex": [
       "\\begin{tabular}{r|ll}\n",
       " in\\_app\\_ads & V1\\\\\n",
       "\\hline\n",
       "\t NO\\_IN\\_APP\\_ADS & 4.149104           \\\\\n",
       "\t IN\\_APP\\_ADS    & 4.246425         \\\\\n",
       "\\end{tabular}\n"
      ],
      "text/markdown": [
       "\n",
       "in_app_ads | V1 | \n",
       "|---|---|\n",
       "| NO_IN_APP_ADS | 4.149104      | \n",
       "| IN_APP_ADS    | 4.246425      | \n",
       "\n",
       "\n"
      ],
      "text/plain": [
       "  in_app_ads    V1      \n",
       "1 NO_IN_APP_ADS 4.149104\n",
       "2 IN_APP_ADS    4.246425"
      ]
     },
     "metadata": {},
     "output_type": "display_data"
    },
    {
     "data": {},
     "metadata": {},
     "output_type": "display_data"
    },
    {
     "data": {
      "image/png": "[encoded data removed]",
      "text/plain": [
       "plot without title"
      ]
     },
     "metadata": {},
     "output_type": "display_data"
    },
    {
     "data": {
      "image/png": "[encoded data removed]",
      "text/plain": [
       "plot without title"
      ]
     },
     "metadata": {},
     "output_type": "display_data"
    }
   ],
   "source": [
    "##### Impact of in-app purchase on average rating\n",
    "\n",
    "Analysis_3 <- mobile_cleaned_proc[rating_mean > 0, in_app_purchase, rating_mean]\n",
    "\n",
    "# Analysis of variance for the two groups\n",
    "aov_purchase <- aov(data = Analysis_3, rating_mean ~ in_app_purchase)\n",
    "summary(aov_purchase)\n",
    "\n",
    "Analysis_3[,j = list(mean(rating_mean)), by = (in_app_purchase)]\n",
    "\n",
    "options(repr.plot.width = 6, repr.plot.height = 4)\n",
    "ggplot(data = Analysis_3, aes(x = in_app_purchase, y = rating_mean, color = in_app_purchase)) +\n",
    "  geom_boxplot() +\n",
    "  ggtitle('Comparison of apps with and w/o in-app purchase') +\n",
    "  ylab('App rating') +\n",
    "  xlab('In-app purchase status') +\n",
    "  theme_light()\n",
    "\n",
    "# Impact of in-app ads on average rating\n",
    "\n",
    "Analysis_4 <- mobile_cleaned_proc[rating_mean > 0, in_app_ads, rating_mean]\n",
    "\n",
    "# Analysis of variance for the two groups\n",
    "aov_ads <- aov(data = Analysis_4, rating_mean ~ in_app_ads)\n",
    "summary(aov_ads)\n",
    "\n",
    "Analysis_4[,j = list(mean(rating_mean)), by = (in_app_ads)]\n",
    "\n",
    "options(repr.plot.width = 6, repr.plot.height = 4)\n",
    "ggplot(data = Analysis_4, aes(x = in_app_ads, y = rating_mean, color = in_app_ads)) +\n",
    "  geom_boxplot() +\n",
    "  ggtitle('Comparison of apps with and w/o in-app ads') +\n",
    "  ylab('App rating') +\n",
    "  xlab('In-app add status') +\n",
    "  theme_light()\n"
   ]
  },
  {
   "cell_type": "markdown",
   "metadata": {},
   "source": [
    "<h4><i>Interpretation of approach 5</i></h4>\n",
    "\n",
    "1. In case of in-app purchase the p value is extremely high hence we cannot conclude that the rating is dependent on the app having in-app purchase\n",
    "2. The p values from the anova for in-app advertisement (table 2)  indicates that the apps with ads have higher ratings (which is counterintuitive)\n",
    "\n",
    "<h4><i>Conclusion from approach 5</i></h4>\n",
    "From the above analysis we can determine that the presence of in-app ads and purchases does not hurt the rating of an app. This means by offering an app at a lower price point, the potential lost revenue could be regained by having advertisements or in-app purchases.\n",
    "\n",
    "<h5>Potential drawbacks:</h5>\n",
    "1. We do not know the details of how the in-app adds are displayed (intermittently, as a pop up ad etc.) which can affect user experaince and be a significant driver of user rating\n",
    "2. We have no visibility to costs associated with the in-app purchase"
   ]
  }
 ],
 "metadata": {
  "kernelspec": {
   "display_name": "R",
   "language": "R",
   "name": "ir"
  },
  "language_info": {
   "codemirror_mode": "r",
   "file_extension": ".r",
   "mimetype": "text/x-r-source",
   "name": "R",
   "pygments_lexer": "r",
   "version": "3.4.3"
  }
 },
 "nbformat": 4,
 "nbformat_minor": 2
}
